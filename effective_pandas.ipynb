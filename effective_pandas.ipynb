{
 "cells": [
  {
   "cell_type": "code",
   "execution_count": null,
   "metadata": {},
   "outputs": [],
   "source": [
    "#!Python3\n",
    "# effective_panas.py - a program to practice the usage of pandas library"
   ]
  },
  {
   "cell_type": "markdown",
   "metadata": {},
   "source": []
  },
  {
   "cell_type": "code",
   "execution_count": 1,
   "metadata": {},
   "outputs": [],
   "source": [
    "import numpy as np\n",
    "import pandas as pd"
   ]
  },
  {
   "cell_type": "code",
   "execution_count": 31,
   "metadata": {},
   "outputs": [
    {
     "name": "stderr",
     "output_type": "stream",
     "text": [
      "/var/folders/_x/bt6gw2851b50zn7352f1qs_40000gn/T/ipykernel_68703/1888316542.py:4: DtypeWarning: Columns (68,70,71,72,73,74,76,79) have mixed types. Specify dtype option on import or set low_memory=False.\n",
      "  df = pd.read_csv(url)\n"
     ]
    }
   ],
   "source": [
    "#Chapter 7 - aggregation methods (data source in chapter 5)\n",
    "url = 'https://github.com/mattharrison/datasets/raw/master/data/'\\\n",
    "      'vehicles.csv.zip'\n",
    "df = pd.read_csv(url)\n",
    "city_mpg = df.city08 # get city mpg list from df\n",
    "highway_mpg = df.highway08 # get highway mpg list from df"
   ]
  },
  {
   "cell_type": "code",
   "execution_count": 32,
   "metadata": {},
   "outputs": [
    {
     "data": {
      "text/plain": [
       "41144"
      ]
     },
     "execution_count": 32,
     "metadata": {},
     "output_type": "execute_result"
    }
   ],
   "source": [
    "#1. Find the count of non-missing values of a series\n",
    "city_mpg.agg('count')"
   ]
  },
  {
   "cell_type": "code",
   "execution_count": 33,
   "metadata": {},
   "outputs": [
    {
     "data": {
      "text/plain": [
       "41144"
      ]
     },
     "execution_count": 33,
     "metadata": {},
     "output_type": "execute_result"
    }
   ],
   "source": [
    "#2. Find the number of entries in the data set\n",
    "city_mpg.agg('size')"
   ]
  },
  {
   "cell_type": "code",
   "execution_count": 34,
   "metadata": {},
   "outputs": [
    {
     "data": {
      "text/plain": [
       "105"
      ]
     },
     "execution_count": 34,
     "metadata": {},
     "output_type": "execute_result"
    }
   ],
   "source": [
    "#3. Find the number of unique entries in the list\n",
    "city_mpg.agg('nunique')"
   ]
  },
  {
   "cell_type": "code",
   "execution_count": 35,
   "metadata": {},
   "outputs": [
    {
     "data": {
      "text/plain": [
       "18.369045304297103"
      ]
     },
     "execution_count": 35,
     "metadata": {},
     "output_type": "execute_result"
    }
   ],
   "source": [
    "#4. Find the mean of the series\n",
    "city_mpg.mean()"
   ]
  },
  {
   "cell_type": "code",
   "execution_count": 36,
   "metadata": {},
   "outputs": [
    {
     "data": {
      "text/plain": [
       "18.369045304297103"
      ]
     },
     "execution_count": 36,
     "metadata": {},
     "output_type": "execute_result"
    }
   ],
   "source": [
    "#4b. Use agg to find the mean of the series\n",
    "city_mpg.agg('mean')"
   ]
  },
  {
   "cell_type": "code",
   "execution_count": 37,
   "metadata": {},
   "outputs": [
    {
     "data": {
      "text/plain": [
       "150"
      ]
     },
     "execution_count": 37,
     "metadata": {},
     "output_type": "execute_result"
    }
   ],
   "source": [
    "#5. Find the max of the series\n",
    "city_mpg.agg('max')"
   ]
  },
  {
   "cell_type": "code",
   "execution_count": 43,
   "metadata": {},
   "outputs": [
    {
     "data": {
      "text/plain": [
       "0        19\n",
       "1         9\n",
       "2        23\n",
       "3        10\n",
       "4        17\n",
       "         ..\n",
       "41139    19\n",
       "41140    20\n",
       "41141    18\n",
       "41142    18\n",
       "41143    16\n",
       "Name: city08, Length: 41144, dtype: category\n",
       "Categories (105, int64): [6, 7, 8, 9, ..., 137, 138, 140, 150]"
      ]
     },
     "execution_count": 43,
     "metadata": {},
     "output_type": "execute_result"
    }
   ],
   "source": [
    "#Chapter 8\n",
    "city_mpg = city_mpg.astype('int64').astype('category')\n",
    "city_mpg"
   ]
  },
  {
   "cell_type": "code",
   "execution_count": 47,
   "metadata": {},
   "outputs": [
    {
     "data": {
      "text/plain": [
       "[6,\n",
       " 7,\n",
       " 8,\n",
       " 9,\n",
       " 10,\n",
       " 11,\n",
       " 12,\n",
       " 13,\n",
       " 14,\n",
       " 15,\n",
       " 16,\n",
       " 17,\n",
       " 18,\n",
       " 19,\n",
       " 20,\n",
       " 21,\n",
       " 22,\n",
       " 23,\n",
       " 24,\n",
       " 25,\n",
       " 26,\n",
       " 27,\n",
       " 28,\n",
       " 29,\n",
       " 30,\n",
       " 31,\n",
       " 32,\n",
       " 33,\n",
       " 34,\n",
       " 35,\n",
       " 36,\n",
       " 37,\n",
       " 38,\n",
       " 39,\n",
       " 40,\n",
       " 41,\n",
       " 42,\n",
       " 43,\n",
       " 44,\n",
       " 45,\n",
       " 46,\n",
       " 47,\n",
       " 48,\n",
       " 49,\n",
       " 50,\n",
       " 51,\n",
       " 52,\n",
       " 53,\n",
       " 54,\n",
       " 55,\n",
       " 57,\n",
       " 58,\n",
       " 59,\n",
       " 60,\n",
       " 61,\n",
       " 62,\n",
       " 73,\n",
       " 74,\n",
       " 77,\n",
       " 78,\n",
       " 79,\n",
       " 80,\n",
       " 81,\n",
       " 83,\n",
       " 84,\n",
       " 85,\n",
       " 86,\n",
       " 87,\n",
       " 88,\n",
       " 89,\n",
       " 90,\n",
       " 91,\n",
       " 92,\n",
       " 93,\n",
       " 94,\n",
       " 95,\n",
       " 97,\n",
       " 98,\n",
       " 101,\n",
       " 102,\n",
       " 104,\n",
       " 106,\n",
       " 107,\n",
       " 110,\n",
       " 112,\n",
       " 114,\n",
       " 115,\n",
       " 118,\n",
       " 120,\n",
       " 121,\n",
       " 122,\n",
       " 123,\n",
       " 124,\n",
       " 125,\n",
       " 126,\n",
       " 127,\n",
       " 128,\n",
       " 129,\n",
       " 131,\n",
       " 132,\n",
       " 136,\n",
       " 137,\n",
       " 138,\n",
       " 140,\n",
       " 150]"
      ]
     },
     "execution_count": 47,
     "metadata": {},
     "output_type": "execute_result"
    }
   ],
   "source": [
    "sorted(set(city_mpg))"
   ]
  },
  {
   "cell_type": "code",
   "execution_count": 45,
   "metadata": {},
   "outputs": [
    {
     "data": {
      "text/plain": [
       "0        19\n",
       "1         9\n",
       "2        23\n",
       "3        10\n",
       "4        17\n",
       "         ..\n",
       "41139    19\n",
       "41140    20\n",
       "41141    18\n",
       "41142    18\n",
       "41143    16\n",
       "Name: city08, Length: 41144, dtype: category\n",
       "Categories (105, int64): [6 < 7 < 8 < 9 ... 137 < 138 < 140 < 150]"
      ]
     },
     "execution_count": 45,
     "metadata": {},
     "output_type": "execute_result"
    }
   ],
   "source": [
    "values = pd.Series(sorted(set(city_mpg)))\n",
    "city_type = pd.CategoricalDtype(categories=values,\n",
    "            ordered=True)\n",
    "city_mpg.astype(city_type)"
   ]
  },
  {
   "cell_type": "code",
   "execution_count": 58,
   "metadata": {},
   "outputs": [],
   "source": [
    "#1. Convert numeric column to smaller type\n",
    "highway_mpg_int16 = highway_mpg.astype('int16').memory_usage(deep=True)"
   ]
  },
  {
   "cell_type": "code",
   "execution_count": 59,
   "metadata": {},
   "outputs": [
    {
     "data": {
      "text/plain": [
       "246864"
      ]
     },
     "execution_count": 59,
     "metadata": {},
     "output_type": "execute_result"
    }
   ],
   "source": [
    "#2. Calculate memory savings by doing so\n",
    "highway_mpg.memory_usage(deep=True) - highway_mpg_int16"
   ]
  },
  {
   "cell_type": "code",
   "execution_count": 71,
   "metadata": {},
   "outputs": [
    {
     "data": {
      "text/plain": [
       "0        25\n",
       "1        14\n",
       "2        33\n",
       "3        12\n",
       "4        23\n",
       "         ..\n",
       "41139    26\n",
       "41140    28\n",
       "41141    24\n",
       "41142    24\n",
       "41143    21\n",
       "Name: highway08, Length: 41144, dtype: category\n",
       "Categories (92, object): ['34', '93', '13', '40', ..., '64', '24', '41', '82']"
      ]
     },
     "execution_count": 71,
     "metadata": {},
     "output_type": "execute_result"
    }
   ],
   "source": [
    "#3 Convert string column into categorical type\n",
    "highway_mpg_str = highway_mpg.astype('str')\n",
    "cats = pd.CategoricalDtype(set(highway_mpg_str))\n",
    "highway_mpg_cat = highway_mpg_str.astype(cats)\n",
    "highway_mpg_cat"
   ]
  },
  {
   "cell_type": "code",
   "execution_count": 75,
   "metadata": {},
   "outputs": [
    {
     "name": "stdout",
     "output_type": "stream",
     "text": [
      "2378874   0.9798899779420397\n"
     ]
    }
   ],
   "source": [
    "#4. Calculate memory savings\n",
    "mb = highway_mpg_str.memory_usage(deep=True) - highway_mpg_cat.memory_usage(deep=True)\n",
    "percent = mb / highway_mpg_str.memory_usage(deep=True)\n",
    "print(mb, ' ', percent)"
   ]
  },
  {
   "cell_type": "code",
   "execution_count": null,
   "metadata": {},
   "outputs": [],
   "source": [
    "# Chapter 9"
   ]
  },
  {
   "cell_type": "code",
   "execution_count": 88,
   "metadata": {},
   "outputs": [
    {
     "name": "stdout",
     "output_type": "stream",
     "text": [
      "7.83 ms ± 633 µs per loop (mean ± std. dev. of 7 runs, 100 loops each)\n"
     ]
    }
   ],
   "source": [
    "%%timeit\n",
    "#1. Create a series from a numeric column that is 'high'\n",
    "# if above the mean or 'low' if below using .apply\n",
    "highway_mean = highway_mpg.mean()\n",
    "def highlow(val):\n",
    "    if val < highway_mean:\n",
    "        return 'low'\n",
    "    else:\n",
    "        return 'high'\n",
    "highway_mpg.apply(highlow)"
   ]
  },
  {
   "cell_type": "code",
   "execution_count": 89,
   "metadata": {},
   "outputs": [
    {
     "name": "stdout",
     "output_type": "stream",
     "text": [
      "4.49 ms ± 954 µs per loop (mean ± std. dev. of 7 runs, 100 loops each)\n"
     ]
    }
   ],
   "source": [
    "%%timeit\n",
    "#2. Create a series from a numeric column that has the\n",
    "# value 'high' if above or 'low' if below the mean\n",
    "# using np.select\n",
    "high = highway_mpg.gt(highway_mpg.mean())\n",
    "pd.Series(np.select([high], ['high'], 'low'), index=highway_mpg.index)"
   ]
  },
  {
   "cell_type": "code",
   "execution_count": 99,
   "metadata": {},
   "outputs": [
    {
     "data": {
      "text/plain": [
       "7138     6.0\n",
       "7139     6.0\n",
       "8143     6.0\n",
       "8144     6.0\n",
       "8146     6.0\n",
       "        ... \n",
       "34563    6.0\n",
       "34564    6.0\n",
       "34565    6.0\n",
       "34566    6.0\n",
       "34567    6.0\n",
       "Name: cylinders, Length: 206, dtype: float64"
      ]
     },
     "execution_count": 99,
     "metadata": {},
     "output_type": "execute_result"
    }
   ],
   "source": [
    "#3. Replace the missing values of a numeric series with the median\n",
    "cyl = df.cylinders\n",
    "cyl[cyl.isna()].fillna(cyl.median())"
   ]
  },
  {
   "cell_type": "code",
   "execution_count": 102,
   "metadata": {},
   "outputs": [
    {
     "data": {
      "text/plain": [
       "0        4.0\n",
       "23280    4.0\n",
       "23279    4.0\n",
       "23278    4.0\n",
       "23277    4.0\n",
       "        ... \n",
       "4133     8.0\n",
       "15683    8.0\n",
       "22317    8.0\n",
       "8284     8.0\n",
       "21338    8.0\n",
       "Name: cylinders, Length: 40938, dtype: float64"
      ]
     },
     "execution_count": 102,
     "metadata": {},
     "output_type": "execute_result"
    }
   ],
   "source": [
    "#4. Clip the values of a numeric series to between the 10th and 90th percent\n",
    "cyl.dropna().clip(cyl.quantile(.1), cyl.quantile(.9)).sort_values()"
   ]
  },
  {
   "cell_type": "code",
   "execution_count": 143,
   "metadata": {},
   "outputs": [
    {
     "data": {
      "text/plain": [
       "4.0      15938\n",
       "6.0      14284\n",
       "8.0       8801\n",
       "5.0        771\n",
       "12.0       626\n",
       "Other      445\n",
       "3.0        279\n",
       "dtype: int64"
      ]
     },
     "execution_count": 143,
     "metadata": {},
     "output_type": "execute_result"
    }
   ],
   "source": [
    "#5. Using a categorical column, replace any values that is not\n",
    "# in the top 5 /10 most frequent with 'Other'\n",
    "cats = pd.CategoricalDtype(set(cyl.fillna('n/a')))\n",
    "cyl_cats = cyl.fillna('n/a').astype(cats)\n",
    "topX = cyl_cats.value_counts()[:6]\n",
    "cyl_cats_topX = pd.Series(np.select([cyl_cats.isin(topX.index)], [cyl_cats], 'Other'))\n",
    "cyl_cats_topX.value_counts()\n"
   ]
  },
  {
   "cell_type": "code",
   "execution_count": 148,
   "metadata": {},
   "outputs": [
    {
     "data": {
      "text/plain": [
       "4.0      15938\n",
       "6.0      14284\n",
       "8.0       8801\n",
       "5.0        771\n",
       "12.0       626\n",
       "Other      445\n",
       "3.0        279\n",
       "dtype: int64"
      ]
     },
     "execution_count": 148,
     "metadata": {},
     "output_type": "execute_result"
    }
   ],
   "source": [
    "#8. Make a function that takes a categorical series and number(n)\n",
    "# and returns a replace series that replaces any value that is not\n",
    "# in the top n most frequent values with 'Other'\n",
    "\n",
    "def top_n_other(s, n):\n",
    "    top_cats = s.value_counts()[:n]\n",
    "    return pd.Series(np.select([s.isin(top_cats.index)], [s], 'Other'))\n",
    "\n",
    "top_n_other(cyl_cats, 6).value_counts()\n",
    "    \n"
   ]
  },
  {
   "cell_type": "code",
   "execution_count": 153,
   "metadata": {},
   "outputs": [
    {
     "data": {
      "text/plain": [
       "(20.5, 32.0]      25904\n",
       "(8.885, 20.5]     11583\n",
       "(32.0, 43.5]       3231\n",
       "(43.5, 55.0]        226\n",
       "(89.5, 101.0]        83\n",
       "(101.0, 112.5]       62\n",
       "(55.0, 66.5]         20\n",
       "(66.5, 78.0]         14\n",
       "(78.0, 89.5]         11\n",
       "(112.5, 124.0]       10\n",
       "Name: highway08, dtype: int64"
      ]
     },
     "execution_count": 153,
     "metadata": {},
     "output_type": "execute_result"
    }
   ],
   "source": [
    "#9. Using a numeric column, bin it into 10 groups that have\n",
    "# the same width\n",
    "pd.cut(highway_mpg, 10).value_counts()"
   ]
  },
  {
   "cell_type": "code",
   "execution_count": 155,
   "metadata": {},
   "outputs": [
    {
     "data": {
      "text/plain": [
       "(22.0, 24.0]     6197\n",
       "(8.999, 17.0]    5548\n",
       "(25.0, 27.0]     5369\n",
       "(19.0, 21.0]     4326\n",
       "(27.0, 29.0]     3815\n",
       "(32.0, 124.0]    3657\n",
       "(17.0, 19.0]     3440\n",
       "(29.0, 32.0]     3254\n",
       "(21.0, 22.0]     3156\n",
       "(24.0, 25.0]     2382\n",
       "Name: highway08, dtype: int64"
      ]
     },
     "execution_count": 155,
     "metadata": {},
     "output_type": "execute_result"
    }
   ],
   "source": [
    "#10 Using a numeric column, bin it into 10 groups that have\n",
    "# equal sized bins\n",
    "pd.qcut(highway_mpg, 10).value_counts()"
   ]
  }
 ],
 "metadata": {
  "kernelspec": {
   "display_name": "Python 3.9.12 ('base')",
   "language": "python",
   "name": "python3"
  },
  "language_info": {
   "codemirror_mode": {
    "name": "ipython",
    "version": 3
   },
   "file_extension": ".py",
   "mimetype": "text/x-python",
   "name": "python",
   "nbconvert_exporter": "python",
   "pygments_lexer": "ipython3",
   "version": "3.9.12"
  },
  "orig_nbformat": 4,
  "vscode": {
   "interpreter": {
    "hash": "40d3a090f54c6569ab1632332b64b2c03c39dcf918b08424e98f38b5ae0af88f"
   }
  }
 },
 "nbformat": 4,
 "nbformat_minor": 2
}
